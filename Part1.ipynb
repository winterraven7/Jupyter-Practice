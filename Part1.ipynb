{
 "cells": [
  {
   "cell_type": "markdown",
   "id": "b828a245-5302-4eb9-8bad-cb6bbbb37896",
   "metadata": {},
   "source": [
    "**Form4 filings Part 1**\n",
    "\n",
    "In the following code cell, provide the code for your function."
   ]
  },
  {
   "cell_type": "code",
   "execution_count": 4,
   "id": "85796db2-bb56-4ac9-b810-aabe741995ae",
   "metadata": {},
   "outputs": [],
   "source": [
    "# Code cell for part 1 - do not delete or modify this line\n",
    "import os\n",
    "import pandas as pd\n",
    "import xml.etree.ElementTree as ET\n",
    "\n",
    "def CreateDataFrame(basefolder):\n",
    "    data = []\n",
    "\n",
    "    for folder_name in os.listdir(basefolder):\n",
    "        folder_path = os.path.join(basefolder, folder_name)\n",
    "        for file_name in os.listdir(folder_path):\n",
    "            _, file_extension = os.path.splitext(file_name)\n",
    "            \n",
    "            file_path = os.path.join(folder_path, file_name)\n",
    "            \n",
    "            with open(file_path, 'r') as file:\n",
    "                content = file.read()\n",
    "                start_tag = '<ownershipDocument>'\n",
    "                end_tag = '</ownershipDocument>'\n",
    "                start_index = content.find(start_tag)\n",
    "                end_index = content.find(end_tag)\n",
    "\n",
    "                if start_index != -1 and end_index != -1:\n",
    "                    doc = content[start_index:end_index + len(end_tag)]\n",
    "                    root = ET.fromstring(doc)\n",
    "                    \n",
    "                    # If a filing does not have a single owner (rptOwnerName), you should completely ignore that filing\n",
    "                    owner_elements = root.findall('.//reportingOwnerId/rptOwnerName')\n",
    "                    if len(owner_elements) > 1:\n",
    "                        continue  \n",
    "                    owner_name = owner_elements[0].text\n",
    "                    \n",
    "                    is_dir = root.find('.//reportingOwnerRelationship/isDirector').text if root.find('.//reportingOwnerRelationship/isDirector') is not None else 0\n",
    "                    is_off = root.find('.//reportingOwnerRelationship/isOfficer').text if root.find('.//reportingOwnerRelationship/isOfficer') is not None else 0\n",
    "                    is_ten = root.find('.//reportingOwnerRelationship/isTenPercentOwner').text if root.find('.//reportingOwnerRelationship/isTenPercentOwner') is not None else 0\n",
    "\n",
    "                    for transaction in root.findall('.//nonDerivativeTransaction'):\n",
    "                        sec_title = transaction.find('.//securityTitle/value')\n",
    "                        sec_title = sec_title.text if sec_title is not None else ''\n",
    "                        trans_date = transaction.find('.//transactionDate/value')\n",
    "                        trans_date = trans_date.text if trans_date is not None else ''\n",
    "                        shares = transaction.find('.//transactionShares/value')\n",
    "                        shares = shares.text if shares is not None else 0\n",
    "                        pps = transaction.find('.//transactionPricePerShare/value')\n",
    "                        pps = pps.text if pps is not None else 0.0\n",
    "                        adcode = transaction.find('.//transactionAcquiredDisposedCode/value')\n",
    "                        adcode = adcode.text if adcode is not None else ''\n",
    "                        shares_after = transaction.find('.//postTransactionAmounts/sharesOwnedFollowingTransaction/value')\n",
    "                        shares_after = shares_after.text if shares_after is not None else 0\n",
    "                        di_owner = transaction.find('.//ownershipNature/directOrIndirectOwnership/value')\n",
    "                        di_owner = di_owner.text if di_owner is not None else ''\n",
    "                        \n",
    "                        data.append({\n",
    "                            'Folder': folder_name,\n",
    "                            'OwnerName': owner_name,\n",
    "                            'IsDir': is_dir,\n",
    "                            'IsOff': is_off,\n",
    "                            'IsTen': is_ten,\n",
    "                            'SecTitle': sec_title,\n",
    "                            'TransDate': trans_date,\n",
    "                            'Shares': shares,\n",
    "                            'PPS': pps,\n",
    "                            'ADCode': adcode,\n",
    "                            'SharesAfter': shares_after,\n",
    "                            'DIOwner': di_owner\n",
    "                        })\n",
    "\n",
    "    df = pd.DataFrame(data)\n",
    "    return df"
   ]
  },
  {
   "cell_type": "code",
   "execution_count": 5,
   "id": "b598836c-c4be-43cd-b184-946ebebb87a7",
   "metadata": {
    "tags": []
   },
   "outputs": [],
   "source": [
    "df_PFE = CreateDataFrame('C:\\\\AMS\\\\PFE\\\\4')"
   ]
  },
  {
   "cell_type": "code",
   "execution_count": 7,
   "id": "f77ea9e5-77cd-4136-8666-2faae87c4881",
   "metadata": {
    "tags": []
   },
   "outputs": [],
   "source": [
    "df_PFE.to_csv('C:\\\\AMS\\\\jupyter_practice\\\\Final Project\\\\de_pfe.csv', index=False)"
   ]
  },
  {
   "cell_type": "code",
   "execution_count": 6,
   "id": "2e007f72-c006-4462-a07a-d26a69429ad0",
   "metadata": {},
   "outputs": [
    {
     "data": {
      "text/plain": [
       "<bound method DataFrame.info of                     Folder             OwnerName IsDir IsOff IsTen  \\\n",
       "0     0000078003-03-000157       MITCHELL JOHN W     0     1     0   \n",
       "1     0000078003-03-000183  CANGIALOSI LORETTA V     0     1     0   \n",
       "2     0000078003-03-000183  CANGIALOSI LORETTA V     0     1     0   \n",
       "3     0000078003-03-000227          CORR PETER B     0     1     0   \n",
       "4     0000078003-03-000227          CORR PETER B     0     1     0   \n",
       "...                    ...                   ...   ...   ...   ...   \n",
       "2416  0001225208-23-004094    DAMICO JENNIFER B.     0     1     0   \n",
       "2417  0001225208-23-004397           Pao William     0     1     0   \n",
       "2418  0001225208-23-005604        Gottlieb Scott     1     0     0   \n",
       "2419  0001225208-23-005604        Gottlieb Scott     1     0     0   \n",
       "2420  0001225208-23-006419        Denton David M     0     1     0   \n",
       "\n",
       "          SecTitle   TransDate      Shares      PPS ADCode SharesAfter DIOwner  \n",
       "0     Common Stock  2003-07-30       19044     5.25      A      673366       D  \n",
       "1     Common Stock  2003-08-27        3600     5.71      A       46668       D  \n",
       "2     Common Stock  2003-08-27         682    30.17      D       45986       D  \n",
       "3     Common Stock  2003-10-02       17731     9.72      A       62781       D  \n",
       "4     Common Stock  2003-10-02        5000    22.77      A       67781       D  \n",
       "...            ...         ...         ...      ...    ...         ...     ...  \n",
       "2416  Common Stock  2023-03-15   9912.0000  40.0200      D   9003.0000       D  \n",
       "2417  Common Stock  2023-03-31  22095.0000  40.8000      D  97765.0000       D  \n",
       "2418  Common Stock  2023-05-05   1000.0000  38.4250      A   5000.0000       D  \n",
       "2419  Common Stock  2023-05-08   1000.0000  38.5800      A   6000.0000       D  \n",
       "2420  Common Stock  2023-05-31  16223.0000  38.0200      D  48224.0000       D  \n",
       "\n",
       "[2421 rows x 12 columns]>"
      ]
     },
     "execution_count": 6,
     "metadata": {},
     "output_type": "execute_result"
    }
   ],
   "source": [
    "df_PFE.info\n",
    "#df_pfe.head(10)"
   ]
  },
  {
   "cell_type": "code",
   "execution_count": null,
   "id": "732cc4eb-c554-41a1-b3a9-2af8d3ec917a",
   "metadata": {},
   "outputs": [],
   "source": []
  }
 ],
 "metadata": {
  "kernelspec": {
   "display_name": "Python 3 (ipykernel)",
   "language": "python",
   "name": "python3"
  },
  "language_info": {
   "codemirror_mode": {
    "name": "ipython",
    "version": 3
   },
   "file_extension": ".py",
   "mimetype": "text/x-python",
   "name": "python",
   "nbconvert_exporter": "python",
   "pygments_lexer": "ipython3",
   "version": "3.11.4"
  }
 },
 "nbformat": 4,
 "nbformat_minor": 5
}
