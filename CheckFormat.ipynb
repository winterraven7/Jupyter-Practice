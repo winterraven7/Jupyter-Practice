{
 "cells": [
  {
   "cell_type": "code",
   "execution_count": 9,
   "id": "926970f8-47cc-49f0-9ff4-0f5de9085f86",
   "metadata": {
    "tags": []
   },
   "outputs": [],
   "source": [
    "#\n",
    "# Run this function by telling it where your prediction .csv file is and where your test data .csv file is. \n",
    "#\n",
    "import pandas as pd\n",
    "def check_format(predfilepath,testfilepath):\n",
    "    dpred=pd.read_csv(predfilepath)\n",
    "    dtest=pd.read_csv(testfilepath)\n",
    "    if \"TRANS_DATE\" not in dpred.columns:\n",
    "        print(\"You did not include a TRANS_DATE column\")\n",
    "        return\n",
    "    if \"DSHARES\" not in dpred.columns:\n",
    "        print(\"You did not include a DSHARES column\")\n",
    "        return\n",
    "    dates_in_pred_file=set(dpred.TRANS_DATE)\n",
    "    dates_in_test_file=set(dtest.TRANS_DATE)\n",
    "    diff1=dates_in_pred_file.difference(dates_in_test_file)\n",
    "    if len(diff1)>0:\n",
    "        print(\"You have \"+str(len(diff1))+\" transaction dates in prediction file that do not appear in test file\")\n",
    "    diff2=dates_in_test_file.difference(dates_in_pred_file)\n",
    "    if len(diff2)>0:\n",
    "        print(\"You have \"+str(len(diff2))+\" transaction dates in test that do not appear in the prediction file\")\n",
    "    return\n",
    "\n",
    "check_format('C:/AMS/jupyter_practice/Final Project/Part3/predicted_dshares.csv', 'C:/AMS/jupyter_practice/Final Project/Part3/test061.csv')   "
   ]
  },
  {
   "cell_type": "code",
   "execution_count": null,
   "id": "20fde6b2-228c-4923-8182-6be53d6502df",
   "metadata": {},
   "outputs": [],
   "source": []
  }
 ],
 "metadata": {
  "kernelspec": {
   "display_name": "Python 3 (ipykernel)",
   "language": "python",
   "name": "python3"
  },
  "language_info": {
   "codemirror_mode": {
    "name": "ipython",
    "version": 3
   },
   "file_extension": ".py",
   "mimetype": "text/x-python",
   "name": "python",
   "nbconvert_exporter": "python",
   "pygments_lexer": "ipython3",
   "version": "3.11.4"
  }
 },
 "nbformat": 4,
 "nbformat_minor": 5
}
